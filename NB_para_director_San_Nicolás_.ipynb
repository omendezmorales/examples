{
  "nbformat": 4,
  "nbformat_minor": 0,
  "metadata": {
    "colab": {
      "name": "NB para director San Nicolás.",
      "provenance": [],
      "collapsed_sections": [
        "eYaIiIaJOPqi",
        "uSx6SUb1Komv"
      ],
      "toc_visible": true,
      "include_colab_link": true
    },
    "kernelspec": {
      "display_name": "Python 3",
      "name": "python3"
    }
  },
  "cells": [
    {
      "cell_type": "markdown",
      "metadata": {
        "id": "view-in-github",
        "colab_type": "text"
      },
      "source": [
        "<a href=\"https://colab.research.google.com/github/omendezmorales/examples/blob/master/NB_para_director_San_Nicol%C3%A1s_.ipynb\" target=\"_parent\"><img src=\"https://colab.research.google.com/assets/colab-badge.svg\" alt=\"Open In Colab\"/></a>"
      ]
    },
    {
      "cell_type": "markdown",
      "metadata": {
        "colab_type": "text",
        "id": "uTnBkRyvGvhW"
      },
      "source": [
        "Propuesta Educativa para [Liceo de San Nicolás](https://www.liceosannicolas.cl).\n",
        "==="
      ]
    },
    {
      "cell_type": "markdown",
      "metadata": {
        "id": "pq5MgGFojfSa",
        "colab_type": "text"
      },
      "source": [
        "# Primer año\n",
        "\n",
        "\n",
        "---\n",
        "\n"
      ]
    },
    {
      "cell_type": "markdown",
      "metadata": {
        "colab_type": "text",
        "id": "70pYkR9LiOV0"
      },
      "source": [
        "\n",
        "## ¿Qué es el pensamiento computacional?\n",
        "\n",
        "Introducir la noción de que para resolver problemas, podemos descomponerlos en pasos -discretizar-, y así avanzar hacia una solución -algoritmo.\n",
        "\n",
        "## La noción de Algoritmos\n",
        "\n",
        "Abordar ejemplos prácticos de algoritmos,  desde levantarse para llegar a la escuela, hasta ejemplos más sofisticados, e.g. el cálculo de impuestos, o una receta de cocina.\n",
        "\n",
        "## Otras ideas básicas y prácticas\n",
        "**¿Qué tan buenos son los alumnos para usar un teclado?**\n",
        "Ver ejemplos de prática como _typing master_[Links] (https://urbantecno.com/tecnologia/programa-escribir-rapido-ordenador) , etc.\n",
        "\n",
        "**Conectar un computador a un proyector**\n",
        "\n",
        "**Tener su propia cuenta de email** \n",
        "(todos los alumn@s la tienen ya?) -Seguramente existe una edad minima para ello.\n",
        "\n",
        "**Participación en la hora del código**\n",
        "\n",
        "Esta es una actividad anual que tiene mucho eco en las escuelas. Es en el mes de diciembre, y puede ser transversal a toda  la escuela. Mas información en (https://hourofcode.com/us/la)\n",
        "\n"
      ]
    },
    {
      "cell_type": "markdown",
      "metadata": {
        "colab_type": "text",
        "id": "eYaIiIaJOPqi"
      },
      "source": [
        "### Sistema binario"
      ]
    },
    {
      "cell_type": "markdown",
      "metadata": {
        "colab_type": "text",
        "id": "tPqPXAKKkzaM"
      },
      "source": [
        "\n",
        "\n",
        "*   Describir cómo la información se transforma desde la entrada de texto en el teclado, hasta convertirse en lenguaje binario -una simple perspectiva de arquitectura de computadores- \n",
        "\n",
        "*   buscar material de apoyo en e.g. [Coder dojo] (https://coderdojo.com/es-ES/resources)\n",
        "\n",
        "* Representación de la informacion; bits, bytes, y sus escalas.\n",
        "\n",
        "\n",
        "\n",
        "\n",
        "\n",
        "\n",
        "\n",
        "\n",
        "An inline image: !\\[Google's logo](https://www.google.com/images/logos/google_logo_41.png)\n",
        ">![Google's logo](https://www.google.com/images/logos/google_logo_41.png)\n",
        "\n",
        "Equations:\n",
        "\n",
        ">$y=x^2$\n",
        "\n",
        ">$e^{i\\pi} + 1 = 0$\n",
        "\n",
        ">$e^x=\\sum_{i=0}^\\infty \\frac{1}{i!}x^i$\n",
        "\n",
        ">$\\frac{n!}{k!(n-k)!} = {n \\choose k}$\n",
        "\n",
        ">$A_{m,n} =\n",
        " \\begin{pmatrix}\n",
        "  a_{1,1} & a_{1,2} & \\cdots & a_{1,n} \\\\\n",
        "  a_{2,1} & a_{2,2} & \\cdots & a_{2,n} \\\\\n",
        "  \\vdots  & \\vdots  & \\ddots & \\vdots  \\\\\n",
        "  a_{m,1} & a_{m,2} & \\cdots & a_{m,n}\n",
        " \\end{pmatrix}$\n",
        "\n",
        "Tables:\n",
        ">```\n",
        "First column name | Second column name\n",
        "--- | ---\n",
        "Row 1, Col 1 | Row 1, Col 2\n",
        "Row 2, Col 1 | Row 2, Col 2\n",
        "```\n",
        "\n",
        "becomes:\n",
        "\n",
        ">First column name | Second column name\n",
        ">--- | ---\n",
        ">Row 1, Col 1 | Row 1, Col 2\n",
        ">Row 2, Col 1 | Row 2, Col 2\n",
        "\n",
        "Horizontal rule done with three dashes (\\-\\-\\-):\n",
        "\n",
        "---\n",
        "\n"
      ]
    },
    {
      "cell_type": "markdown",
      "metadata": {
        "colab_type": "text",
        "id": "uSx6SUb1Komv"
      },
      "source": [
        "## Useful references"
      ]
    },
    {
      "cell_type": "markdown",
      "metadata": {
        "colab_type": "text",
        "id": "5Y3CStVkLxqt"
      },
      "source": [
        "* [Github markdown basics](https://help.github.com/articles/markdown-basics/)\n",
        "* [Github flavored markdown](https://help.github.com/articles/github-flavored-markdown/)\n",
        "* [Original markdown spec: Syntax](http://daringfireball.net/projects/markdown/syntax)\n",
        "* [Original markdown spec: Basics](http://daringfireball.net/projects/markdown/basics)\n",
        "* [marked.js library used by Colaboratory](https://github.com/chjj/marked)\n",
        "* [LaTex mathematics for equations](https://en.wikibooks.org/wiki/LaTeX/Mathematics)"
      ]
    },
    {
      "cell_type": "markdown",
      "metadata": {
        "id": "ImSvYc_2kPaX",
        "colab_type": "text"
      },
      "source": [
        "# Segundo Año\n",
        "\n",
        "---\n",
        "\n"
      ]
    },
    {
      "cell_type": "markdown",
      "metadata": {
        "id": "Se-jQj8TkYwy",
        "colab_type": "text"
      },
      "source": [
        "## Simulaciones\n",
        "\n",
        "La naturaleza del código. \n",
        "\n",
        "\n",
        "*   Vectores\n",
        "*   Tiro parabólico\n",
        "*   Otros fenómenos\n",
        "\n",
        "Quizá tomar algunas ideas de jóvenes programadores.\n",
        "\n"
      ]
    },
    {
      "cell_type": "markdown",
      "metadata": {
        "id": "o4UEV6nFlSm9",
        "colab_type": "text"
      },
      "source": [
        "## Ofimática\n",
        "\n",
        "\n",
        "*   Edición de texto\n",
        "*   Hojas de cálculo\n",
        "*   Elaboración de presentaciones\n",
        "*   Edición simple de páginas web\n",
        "\n",
        "\n"
      ]
    },
    {
      "cell_type": "markdown",
      "metadata": {
        "id": "kSOWlRXkls0H",
        "colab_type": "text"
      },
      "source": [
        "# Tercer Año\n",
        "\n",
        "\n",
        "\n",
        "---\n",
        "\n"
      ]
    },
    {
      "cell_type": "markdown",
      "metadata": {
        "id": "th85K6ypl2z3",
        "colab_type": "text"
      },
      "source": [
        "## Protoripos usando micro-computadores\n",
        "\n",
        "\n",
        "*   Introducción a [Arduino](https://arduino.cc)\n",
        "*   Introducción a [Raspberry Pi](https://raspberrypi.org)\n",
        "\n",
        "Ver qué avances existen ya en el taller de róbótica, y construir sobre los mismos.\n",
        "\n"
      ]
    },
    {
      "cell_type": "markdown",
      "metadata": {
        "id": "1owCPTG0mcBZ",
        "colab_type": "text"
      },
      "source": [
        "## Periodismo en la web\n",
        "\n",
        "\n",
        "*   _Newsboard_ para el liceo\n",
        "*   Enlace para/por los alumnos a plataforma [MySchool](https://www.myschool.cl/pwMySchool/index.html)\n",
        "\n"
      ]
    },
    {
      "cell_type": "markdown",
      "metadata": {
        "id": "uRiVH_jenlrh",
        "colab_type": "text"
      },
      "source": [
        "# Cuarto Año\n",
        "\n",
        "\n",
        "---\n",
        "\n"
      ]
    },
    {
      "cell_type": "markdown",
      "metadata": {
        "id": "AkD3dczAnsiy",
        "colab_type": "text"
      },
      "source": [
        "## Intro a programación en Python\n",
        "--Esquema tentativo del curso\n",
        "\n",
        "*   Elementos básicos de (sintaxis en) Python\n",
        "*   el REPL o interprete\n",
        "*   Funciones\n",
        "*   Estructuras de datos incluidas, e.g.: Listas. Mapas, Conjuntos, etc.\n",
        "*   Paquetes y módulos\n",
        "*   Una intro a la POO (?) (Clases, metodos)\n",
        "*   Algunas librerías comunes, e.g. Numpy, MatplotLib\n",
        "\n"
      ]
    },
    {
      "cell_type": "markdown",
      "metadata": {
        "id": "HAbkKAPan7OJ",
        "colab_type": "text"
      },
      "source": [
        "## Desarrollo colaborativo de software\n",
        "\n",
        "\n",
        "*   Microsoft [Github] (https://github.com). Quizá esto ya se pueda introducir desde 3er año...\n",
        "*   Google [Colab](https://colab.research.google.com), o sea edición en entornos interactivos como las Notebooks.\n",
        "\n",
        "##**Meta de egreso**\n",
        "Certificaciones (profesionales) en programación o plataformas digitales  (e,g, ACTI)\n",
        "---\n",
        "\n",
        "video juegos o renderización 3D)\n",
        "\n",
        "---\n",
        "\n",
        "\n"
      ]
    },
    {
      "cell_type": "markdown",
      "metadata": {
        "id": "_2Xsc6XUPN_-",
        "colab_type": "text"
      },
      "source": [
        "#Otras ideas para chicos de 6º a 8º#"
      ]
    },
    {
      "cell_type": "markdown",
      "metadata": {
        "id": "gOa_AK_pP6Vi",
        "colab_type": "text"
      },
      "source": [
        "*   Libros/recomendaciones como [este] (https://www.amazon.com/First-Time-Coders-Definitive-Children-ebook/dp/B07WJ754TY/ref=sr_1_2?&_encoding=UTF8&tag=diabeticbooks-20)\n",
        "*   Ver el material que traduje del [curso de Scratch] de la profesora Felienne Hermans (https://github.com/omendezmorales/Scratch_en_castellano)"
      ]
    }
  ]
}